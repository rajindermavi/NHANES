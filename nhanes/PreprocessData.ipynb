{
 "metadata": {
  "language_info": {
   "codemirror_mode": {
    "name": "ipython",
    "version": 3
   },
   "file_extension": ".py",
   "mimetype": "text/x-python",
   "name": "python",
   "nbconvert_exporter": "python",
   "pygments_lexer": "ipython3",
   "version": "3.9.5"
  },
  "orig_nbformat": 4,
  "kernelspec": {
   "name": "python3",
   "display_name": "Python 3.9.5 64-bit"
  },
  "interpreter": {
   "hash": "31f2aee4e71d21fbe5cf8b01ff0e069b9275f58929596ceb00d14d90e3e16cd6"
  }
 },
 "nbformat": 4,
 "nbformat_minor": 2,
 "cells": [
  {
   "cell_type": "markdown",
   "source": [
    "# Preprocessing NHANES Data"
   ],
   "metadata": {}
  },
  {
   "cell_type": "markdown",
   "source": [
    "## Summary\n",
    "\n",
    "In this notebook we take the first step towards wrangling data collected from the NHANES repository.\n",
    "\n",
    "### Steps taken in this notebook\n",
    "\n",
    "#### Dropping participants under the age of 20\n",
    "We are interested in hypertension which typically becomes a concern among older patients.\n",
    "\n",
    "\n",
    "#### Treating refused / don't know as missing\n",
    "The NHANES survey taker records responses of the SP 'refused(to answer)' and 'don't know'. Such answers are coded as numbers which are documented on the NHANES website. There are not enough of these values overall to treat them as a separate category, so we will treat them as we treat the other missing values in the data.\n",
    "\n",
    "\n",
    "#### Filling in cells skipped by design in the survey (dependent column)\n",
    "The NHANES survey methods indicate occasionally skipping questions based on previous answers. Such questions should have corresponding missing values filled in.\n",
    "\n",
    "* For example, if the answer to the question 'Have you smoked 100 cigarettes in your lifetime?' is no, then the following question 'Are you currently smoking?' is skipped. In this case we fill in missing values as 'no'.\n",
    "\n",
    "\n",
    "#### Combining similar columns\n",
    "Over the years questions in the NHANES survey have changed. When questions wordings are changed slightly the variables are renamed. Such variables will be combined into single columns. Concretely, the combined columns are described below.\n",
    "\n",
    "  * For example, the alcohol survey question 'Was there ever a period of your life when you drank 5 alcoholic drinks per day?' was changed to 'Was there ever a period of your life when you drank 4/5 alcoholic drinks per day?' (4 for Women, 5 for Men). These columns will be merged into a single column.\n",
    "\n",
    "#### Recoding\n",
    "Some columns are coded in such a way that is unusual or counterproductive for analysis. We recode these columns.\n",
    "\n",
    "  * For example, in yes / no questions yes = 1 and no = 2, we will recode no = 0 as is typical in data analysis. Another example, SPs diagnosed with diabetes at ages at or younger than 1 are coded as 666, we will recode these as 1.\n",
    "\n",
    "#### Rename columns\n",
    "The NHANES repository names are replaced with more descriptive names.  \n",
    "\n",
    "#### Average Systolic and Diastolic blood pressure measurements\n",
    "Each SP's Systolic and Diastolic blood pressure are measured up to 3 times. We average all measurements respectively.\n"
   ],
   "metadata": {}
  },
  {
   "cell_type": "code",
   "execution_count": 1,
   "source": [
    "import pandas as pd\n",
    "import numpy as np\n",
    "import json "
   ],
   "outputs": [],
   "metadata": {}
  },
  {
   "cell_type": "code",
   "execution_count": 2,
   "source": [
    "df = pd.read_pickle(\"raw_data.pkl\")"
   ],
   "outputs": [],
   "metadata": {}
  },
  {
   "cell_type": "markdown",
   "source": [
    "## Drop SPs age 20 and below"
   ],
   "metadata": {}
  },
  {
   "cell_type": "code",
   "execution_count": 3,
   "source": [
    "df = df[df['RIDAGEYR'] > 20]"
   ],
   "outputs": [],
   "metadata": {}
  },
  {
   "cell_type": "markdown",
   "source": [
    "## Recode refused/don't know to missing"
   ],
   "metadata": {}
  },
  {
   "cell_type": "code",
   "execution_count": 4,
   "source": [
    "encode_missing = json.load(open(\n",
    "    'config/encode_missing.json', 'r'))\n",
    "\n",
    "for col, codes in encode_missing.items():\n",
    "    df.loc[df[col].isin(codes)] = np.nan   "
   ],
   "outputs": [],
   "metadata": {}
  },
  {
   "cell_type": "markdown",
   "source": [
    "## Combine similar columns"
   ],
   "metadata": {}
  },
  {
   "cell_type": "markdown",
   "source": [
    "DMDHREDU (Education questionaire) will be recoded as\n",
    "\n",
    "Education:\n",
    "\n",
    "  * 1 -- Less than Highschool\n",
    "  * 2 -- GED / Highschool graduate\n",
    "  * 3 -- College graduate or higher\n",
    "\n",
    "OHQ011 (Dental health) requires a recoding to align with OHQ845. Both are ordinal variables for similar questions. "
   ],
   "metadata": {}
  },
  {
   "cell_type": "code",
   "execution_count": 5,
   "source": [
    "# Before combination, some values must be recoded\n",
    "\n",
    "# Recode DMDHREDU:\n",
    "df.loc[(df['DMDHREDU'] == 2),'DMDHREDU'] = 1\n",
    "df.loc[df['DMDHREDU'].isin([3,4]),'DMDHREDU'] = 2\n",
    "df.loc[(df['DMDHREDU'] == 5),'DMDHREDU'] = 3\n",
    "\n",
    "# Recode OHQ011:\n",
    "df['OHQ011'] = df['OHQ011'] - 10\n"
   ],
   "outputs": [],
   "metadata": {}
  },
  {
   "cell_type": "markdown",
   "source": [
    "### Combine:\n",
    "#### ALQ150 and ALQ151\n",
    "#### DMDHREDU and DMDHREDZ\n",
    "#### SLD012H and SLQ012\n",
    "#### OHQ011 and OHQ845"
   ],
   "metadata": {}
  },
  {
   "cell_type": "code",
   "execution_count": 6,
   "source": [
    "df.loc[df['ALQ150'].isna(), 'ALQ150'] = df['ALQ151']\n",
    "df = df.drop(['ALQ151'],axis = 1)\n",
    "\n",
    "df.loc[df['DMDHREDU'].isna(), 'DMDHREDU'] = df['DMDHREDZ']\n",
    "df = df.drop(['DMDHREDZ'],axis = 1)\n",
    "\n",
    "df.loc[df['SLD010H'].isna(), 'SLD010H'] = df['SLD012']\n",
    "df = df.drop(['SLD012'],axis = 1)\n",
    "\n",
    "df.loc[df['OHQ011'].isna(), 'OHQ011'] = df['OHQ845']\n",
    "df = df.drop(['OHQ845'],axis = 1)"
   ],
   "outputs": [],
   "metadata": {}
  },
  {
   "cell_type": "markdown",
   "source": [
    "### Fix dependent columns\n",
    "\n",
    "The column 'DBD895' gives the number of meals SP had out, the column 'DBD900' are the number of fast food meals out. If the 'DBD895' is zero, we set the 'DBD900' value to zero.\n",
    "\n",
    "The column 'OCD150' records whether the SP worked last week, the column 'OCQ180' records the number of hours, if SP did not work last week, the number of hours is zero.\n",
    "\n",
    "The column 'SMQ020' records whether the SP has smoked 100 cigarettes in their life, the column 'SMQ040' records whether the SP is currently a smoker. If the SP has not smoked 100 cigarettes, we categorize them as non smokers."
   ],
   "metadata": {}
  },
  {
   "cell_type": "code",
   "execution_count": 7,
   "source": [
    "\n",
    "# For the number of fast food meals we will fill in 0 if no meals were eaten out\n",
    "df.loc[(df['DBD895'] == 0 ),'DBD900'] = 0    \n",
    "\n",
    "# If SP was not working last week, fill in zero hours worked\n",
    "df.loc[df['OCD150'].isin([2,3,4]),'OCQ180'] = 0    \n",
    "df = df.drop(['OCD150'],axis = 1)\n",
    "\n",
    "# If SP has not smoked 100 cigarettes, then not currently smoking\n",
    "df.loc[(df['SMQ020'] > 1),'SMQ040'] = 3   "
   ],
   "outputs": [],
   "metadata": {}
  },
  {
   "cell_type": "markdown",
   "source": [
    "Column CDQ001 records whether the SP has ever had pain or discomfort in the chest. Column CDQ010 records whether the SP has shortness of breath on stairs/inclines. For both questions SPs under 20 were not questioned. We will code these values as 'no'."
   ],
   "metadata": {}
  },
  {
   "cell_type": "code",
   "execution_count": 8,
   "source": [
    "df.loc[(df['RIDAGEYR'] < 40),'CDQ001'] = 2\n",
    "df.loc[(df['RIDAGEYR'] < 40),'CDQ010'] = 2"
   ],
   "outputs": [],
   "metadata": {}
  },
  {
   "cell_type": "markdown",
   "source": [
    "### Recoding"
   ],
   "metadata": {}
  },
  {
   "cell_type": "markdown",
   "source": [
    "#### Diabetes\n",
    "\n",
    "DID049 -- Age at Diagnosis.\n",
    "df.DID040 == 666 encodes those SPs diagnosed with diabetes at or below age 1, we replace the coding with 1\n",
    "\n",
    "\n",
    "DID010 -- Diagnosis.\n",
    "For those not told they have diabetes, code 0. For those told they have diabetes or borderline diabetes, code 1. "
   ],
   "metadata": {}
  },
  {
   "cell_type": "code",
   "execution_count": 9,
   "source": [
    "# Recode diagnosis\n",
    "df.loc[(df['DIQ010'] == 2),'DIQ010'] = 0  \n",
    "df.loc[(df['DIQ010'] == 3),'DIQ010'] = 1   \n",
    "\n",
    "# Recode age at diagnosis\n",
    "df.loc[(df['DID040'] == 666),'DID040'] = 1  "
   ],
   "outputs": [],
   "metadata": {}
  },
  {
   "cell_type": "markdown",
   "source": [
    "#### Income\n",
    "\n",
    "\n",
    "Recode Household income:\n",
    "\n",
    "Simplify the household income with the following recoding.\n",
    "\n",
    "  * 1 -- 0 to under 20K\n",
    "  * 2 -- 20K to under 45K\n",
    "  * 3 -- 45K to under 75K\n",
    "  * 4 -- 75K and above"
   ],
   "metadata": {}
  },
  {
   "cell_type": "code",
   "execution_count": 10,
   "source": [
    "# Under 20K\n",
    "df.loc[  df['INDHHIN2'].isin([1,2,3,4,13]), 'INDHHIN2'] = 1\n",
    "# 20K to 45K\n",
    "df.loc[  df['INDHHIN2'].isin([5,6,7]), 'INDHHIN2'] = 2\n",
    "# 45K to 75K\n",
    "df.loc[  df['INDHHIN2'].isin([8,9,10]), 'INDHHIN2'] = 3\n",
    "# Over 75K\n",
    "df.loc[  df['INDHHIN2'].isin([14,15]), 'INDHHIN2'] = 4"
   ],
   "outputs": [],
   "metadata": {}
  },
  {
   "cell_type": "markdown",
   "source": [
    "#### Diet\n",
    "\n",
    "DBQ197 -- Amount of milk consumed. Ambiguous 'varied' response will be recoded as missing.\n",
    "\n",
    "DBD895 / DBD900 -- Number of meals out of the home / fast food meals in the last week. For both columns 5555 encodes more than 21 meals, recode as 21.\n",
    "\n",
    "\n",
    "DBD905 / DBD910 -- Number of meals ready to eat / frozen in the last month. 6666 encodes more than 180 meals, recode as 180.\n",
    "\n"
   ],
   "metadata": {}
  },
  {
   "cell_type": "code",
   "execution_count": 11,
   "source": [
    "\n",
    "df.loc[(df.DBQ197 > 3), 'DBQ197'] = np.nan\n",
    "\n",
    "df.loc[(df.DBD895 == 5555), 'DBD895'] = 22\n",
    "\n",
    "df.loc[(df.DBD900 == 5555), 'DBD900'] = 22 \n",
    "\n",
    "df.loc[(df.DBD905 == 6666), 'DBD905'] = 180 \n",
    "\n",
    "df.loc[(df.DBD910 == 6666), 'DBD910'] = 180 "
   ],
   "outputs": [],
   "metadata": {}
  },
  {
   "cell_type": "markdown",
   "source": [
    "#### Hours worked\n",
    "\n",
    "OCQ180 encodes the number of hours worked over the last week. Some survey cycles limit the largest value to 80, so we will enforce this limit over all cycles."
   ],
   "metadata": {}
  },
  {
   "cell_type": "code",
   "execution_count": 12,
   "source": [
    "df.loc[(df.OCQ180 >= 80),'OCQ180'] = 80"
   ],
   "outputs": [],
   "metadata": {}
  },
  {
   "cell_type": "markdown",
   "source": [
    "#### Are you/ have you ever been pregnant.\n",
    "\n",
    "Males will be coded as no. Females coded as not pregnant now."
   ],
   "metadata": {}
  },
  {
   "cell_type": "code",
   "execution_count": 13,
   "source": [
    "df.loc[df['RIAGENDR'] == 1, 'RHQ131'] = 0 \n",
    "df.loc[df['RIAGENDR'] == 1, 'RHD143'] = 0 \n",
    "\n",
    "df.loc[(df['RIAGENDR'] == 2)&(df['RIDAGEYR'] <= 60), 'RHD143'] = 0 "
   ],
   "outputs": [],
   "metadata": {}
  },
  {
   "cell_type": "markdown",
   "source": [
    "#### Weight\n",
    "\n",
    "Self reported weight is in pounds, but measured weight is in kg. We convert weight to kg."
   ],
   "metadata": {}
  },
  {
   "cell_type": "code",
   "execution_count": 14,
   "source": [
    "df.loc[:,'WHD140'] = df['WHD140'].div(2.2046)"
   ],
   "outputs": [],
   "metadata": {}
  },
  {
   "cell_type": "markdown",
   "source": [
    "#### Yes / No recoding"
   ],
   "metadata": {}
  },
  {
   "cell_type": "code",
   "execution_count": 15,
   "source": [
    "yn_recode = json.load(open(\n",
    "    'config/yn_recode.json', 'r'))\n",
    "\n",
    "for col in yn_recode:\n",
    "    df.loc[df[col]==2,col]=0    "
   ],
   "outputs": [],
   "metadata": {}
  },
  {
   "cell_type": "markdown",
   "source": [
    "### Rename Columns"
   ],
   "metadata": {}
  },
  {
   "cell_type": "code",
   "execution_count": 16,
   "source": [
    "col_rename = json.load(open(\n",
    "    'config/col_rename.json', 'r'))\n",
    "\n",
    "df.rename(columns = col_rename,inplace = True)    "
   ],
   "outputs": [],
   "metadata": {}
  },
  {
   "cell_type": "markdown",
   "source": [
    "### Average Systolic and Diastolic BP measurements"
   ],
   "metadata": {}
  },
  {
   "cell_type": "code",
   "execution_count": 17,
   "source": [
    "df['Systolic'] = df.loc[:,['BPXSY1','BPXSY2','BPXSY3']].mean(axis = 1)\n",
    "df['Diastolic'] = df.loc[:,['BPXDI1','BPXDI2','BPXDI3']].mean(axis = 1)\n",
    "\n",
    " \n",
    "df = df.drop(['BPXSY1','BPXSY2','BPXSY3','BPXDI1','BPXDI2','BPXDI3'],axis = 1)\n",
    "df = df.dropna(how = 'any', subset = ['Systolic','Diastolic'])"
   ],
   "outputs": [],
   "metadata": {}
  },
  {
   "cell_type": "code",
   "execution_count": 18,
   "source": [
    "df.to_pickle(\"preprocessed_data.pkl\")"
   ],
   "outputs": [],
   "metadata": {}
  },
  {
   "cell_type": "code",
   "execution_count": 19,
   "source": [
    "df.columns"
   ],
   "outputs": [
    {
     "output_type": "execute_result",
     "data": {
      "text/plain": [
       "Index(['Cycle', 'Age', 'Gender', 'Education', 'Ethnicity', 'InterviewWeight',\n",
       "       'Alcohol', 'CholHist', 'HyperHist', 'ChestPain', 'Shortness', 'DiabAge',\n",
       "       'DiabHist', 'Milk', 'FeltDown', 'Suicidality', 'FeltBad', 'WeakKidneys',\n",
       "       'UrineLeak', 'HoursWorked', 'Dental', 'Pesticides', 'PregnantEver',\n",
       "       'PregnantNow', 'HoursSlept', 'Smoke100', 'SmokeNow', 'MaxWeight',\n",
       "       'LegLen', 'ArmCirc', 'Weight', 'BMI', 'Waist', 'ArmLen', 'Pulse',\n",
       "       'LBXGLU', 'SessionTime', 'FoodFastHours', 'HDL', 'LDL', 'Tryglicerides',\n",
       "       'TChol', 'HHIncome', 'MealsOut', 'ReadytoEat', 'Frozen', 'FastFood',\n",
       "       'KidneyStones', 'ModWork', 'VigRec', 'VigWork', 'ModRec', 'WalkBike',\n",
       "       'Systolic', 'Diastolic'],\n",
       "      dtype='object')"
      ]
     },
     "metadata": {},
     "execution_count": 19
    }
   ],
   "metadata": {}
  },
  {
   "cell_type": "code",
   "execution_count": null,
   "source": [],
   "outputs": [],
   "metadata": {}
  }
 ]
}